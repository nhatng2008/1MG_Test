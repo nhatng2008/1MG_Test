{
 "cells": [
  {
   "cell_type": "code",
   "execution_count": 3,
   "metadata": {},
   "outputs": [],
   "source": [
    "from pyspark.sql import *\n",
    "from pyspark.sql.types import StructField, IntegerType, StructType, StringType, DateType, DoubleType, TimestampType\n",
    "\n",
    "spark = SparkSession.builder.appName('OneMountGroupTest').getOrCreate()\n",
    "\n",
    "\n",
    "data_file = \"green_tripdata_2013-09.csv\""
   ]
  },
  {
   "cell_type": "code",
   "execution_count": 4,
   "metadata": {},
   "outputs": [],
   "source": [
    "def get_schema():\n",
    "    schema=[StructField('VendorID',IntegerType(),True),\n",
    "           StructField('lpep_pickup_datetime',TimestampType(),True),\n",
    "           StructField('Lpep_dropoff_datetime',TimestampType(),True),\n",
    "           StructField('Store_and_fwd_flag',StringType(),True),\n",
    "           StructField('RateCodeID',IntegerType(),True),\n",
    "           StructField('Pickup_longitude',DoubleType(),True),\n",
    "           StructField('Pickup_latitude',DoubleType(),True),\n",
    "           StructField('Dropoff_longitude',DoubleType(),True),\n",
    "           StructField('Dropoff_latitude',DoubleType(),True),\n",
    "           StructField('Passenger_count',IntegerType(),True),\n",
    "           StructField('Trip_distance',DoubleType(),True),\n",
    "           StructField('Fare_amount',DoubleType(),True),\n",
    "           StructField('Extra',DoubleType(),True),\n",
    "           StructField('MTA_tax',DoubleType(),True),\n",
    "           StructField('Tip_amount',DoubleType(),True),\n",
    "           StructField('Tolls_amount',DoubleType(),True),\n",
    "           StructField('Ehail_fee',DoubleType(),True),\n",
    "           StructField('Total_amount',DoubleType(),True),\n",
    "           StructField('Payment_type',IntegerType(),True),\n",
    "           StructField('Trip_type',IntegerType(),True)\n",
    "    ]\n",
    "    return StructType(fields=schema)\n",
    "\n",
    "\n",
    "\n",
    "# Read data from file and convert the schema\n",
    "df =  spark.read.format(\"csv\").option(\"header\", \"true\").option(\"timestampFormat\", \"yyyy-MM-dd HH:mm:ss\").schema(get_schema()).load(data_file)\n"
   ]
  },
  {
   "cell_type": "code",
   "execution_count": 5,
   "metadata": {},
   "outputs": [],
   "source": [
    "# Task 1. Create a program that produces a typed parquet file (https://parquet.apache.org/) from this file\n",
    "stored_file = 'data/converted_data.parquet'\n",
    "df.write.save(stored_file)"
   ]
  },
  {
   "cell_type": "code",
   "execution_count": null,
   "metadata": {},
   "outputs": [],
   "source": []
  }
 ],
 "metadata": {
  "kernelspec": {
   "display_name": "Python 3",
   "language": "python",
   "name": "python3"
  },
  "language_info": {
   "codemirror_mode": {
    "name": "ipython",
    "version": 3
   },
   "file_extension": ".py",
   "mimetype": "text/x-python",
   "name": "python",
   "nbconvert_exporter": "python",
   "pygments_lexer": "ipython3",
   "version": "3.8.6"
  }
 },
 "nbformat": 4,
 "nbformat_minor": 4
}
